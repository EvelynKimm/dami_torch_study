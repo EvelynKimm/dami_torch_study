{
 "cells": [
  {
   "cell_type": "code",
   "execution_count": null,
   "metadata": {},
   "outputs": [],
   "source": [
    "import torch\n",
    "import torch.nn as nn\n",
    "import torch.nn.functional as F\n",
    "\n",
    "class Net(nn.Module):\n",
    "    \n",
    "    def __init__(self):\n",
    "        super(Net, self).__init__()\n",
    "        # 입력 채널 1개(흑백) \n",
    "        # 출력 채널 6개\n",
    "        # 5x5 크기의 커널을 사용하는 첫번째 합성곱 층\n",
    "        self.conv1 = nn.Conv2d(1, 6, 5)\n",
    "        # 입력 채널 6개\n",
    "        # 출력 채널 16개\n",
    "        # 5x5 크기의 커널을 사용하는 두번째 합성곱 층\n",
    "        self.conv2 = nn.Conv2d(6, 16, 5)\n",
    "        # 입력 틍징의 수가 16 * 5 * 5인 FC층 (120개의 출력 뉴런)\n",
    "        self.fc1 = nn.Linear(16 * 5 * 5, 120)\n",
    "        # 입력 뉴련이 120개, 출력 뉴런이 84개인 FC층\n",
    "        self.fc2 = nn.Linear(120, 84) \n",
    "        # 입력 뉴련이 84개, 출력 뉴런이 10개인 FC층\n",
    "        self.fc3 = nn.Linear(84, 10)\n",
    "        \n",
    "    def forward(self, input):\n",
    "        # 입력 이미지에 5x5 커널로 합성곱 연산 수행\n",
    "        c1 = F.relu(self.conv1(input))\n",
    "        s2 = F.max_pool2d(c1, (2, 2))\n",
    "        c3 = F.relu(self.conv2(s2))\n",
    "        s4 = F.max_pool2d(c3, 2)\n",
    "        s4 = torch.flatten(s4)\n",
    "        f5 = F.relu(self.fc1(s4))\n",
    "        f6 = F.relu(self.fc2(f5))\n",
    "        \n",
    "        output = self.fc3(f6)\n",
    "        return output\n",
    "\n",
    "net = Net()\n",
    "print(net)"
   ]
  },
  {
   "cell_type": "code",
   "execution_count": null,
   "metadata": {},
   "outputs": [],
   "source": []
  },
  {
   "cell_type": "code",
   "execution_count": null,
   "metadata": {},
   "outputs": [],
   "source": []
  },
  {
   "cell_type": "code",
   "execution_count": null,
   "metadata": {},
   "outputs": [],
   "source": []
  },
  {
   "cell_type": "code",
   "execution_count": null,
   "metadata": {},
   "outputs": [],
   "source": []
  },
  {
   "cell_type": "code",
   "execution_count": null,
   "metadata": {},
   "outputs": [],
   "source": []
  }
 ],
 "metadata": {
  "kernelspec": {
   "display_name": "AI_project",
   "language": "python",
   "name": "python3"
  },
  "language_info": {
   "name": "python",
   "version": "3.11.0"
  }
 },
 "nbformat": 4,
 "nbformat_minor": 2
}
